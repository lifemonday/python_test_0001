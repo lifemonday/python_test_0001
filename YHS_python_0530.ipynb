{
 "cells": [
  {
   "cell_type": "code",
   "execution_count": 7,
   "metadata": {
    "scrolled": true
   },
   "outputs": [
    {
     "ename": "SyntaxError",
     "evalue": "invalid syntax (<ipython-input-7-d5e0eee8d065>, line 1)",
     "output_type": "error",
     "traceback": [
      "\u001b[1;36m  File \u001b[1;32m\"<ipython-input-7-d5e0eee8d065>\"\u001b[1;36m, line \u001b[1;32m1\u001b[0m\n\u001b[1;33m    l1=['a'. 'b', 'c', 'd', 'a', 'b', 'a', 'b']\u001b[0m\n\u001b[1;37m               ^\u001b[0m\n\u001b[1;31mSyntaxError\u001b[0m\u001b[1;31m:\u001b[0m invalid syntax\n"
     ]
    }
   ],
   "source": [
    "l1=['a'. 'b', 'c', 'd', 'a', 'b', 'a', 'b']\n",
    "l2=['b', 'a']\n",
    "\n",
    "for i in l1:\n",
    "    if i in l2:\n",
    "        i.remove(l1)\n",
    "print (i)"
   ]
  },
  {
   "cell_type": "markdown",
   "metadata": {},
   "source": [
    "# 디버거 명령\n",
    "| 명령|실행|\n",
    "|----------|:-------------:|\n",
    "|h(elp)|명령어 목록|\n",
    "|help command|command에 대한 문서|\n",
    "|c(ontinue)|프로그램의 실행 재개|\n",
    "|q(uit)|더 이상 코드를 실행하지 않고 디버거를 종료|\n",
    "|b(reak) number|현재 파일의 number번 째 줄에 브레이크 포인트를 설정|\n",
    "|b path/to/file.py:number|지정한 파일의 number번 째 줄에 브레이크 포인트를 설정|\n",
    "|s(tep)|함수 호출 안으로 진입|\n",
    "|n(ext)|현재 줄을 실행하고 같은 레벨의 다음 줄로 진행|\n",
    "|u(p)/d(own)|함수 콜 스택(호출 정보)의 위/아래로 이동|\n",
    "|a(rgs)|현재 함수의 인자를 보여줌|\n",
    "|debug statement|statement 문장을 새로운(재귀적)디버거에서 실행|\n",
    "|l(ist) statement|현재 위치와 스택의 현재 레벨에 대한 문맥을 보여줌|\n",
    "|w(here)|현재 위치에 대한 문맥과 함께 전체 스택 정보를 출력|"
   ]
  },
  {
   "cell_type": "markdown",
   "metadata": {},
   "source": [
    "# 시험 복습"
   ]
  },
  {
   "cell_type": "code",
   "execution_count": 9,
   "metadata": {
    "scrolled": false
   },
   "outputs": [
    {
     "ename": "SyntaxError",
     "evalue": "invalid syntax (<ipython-input-9-e75248c5fc06>, line 1)",
     "output_type": "error",
     "traceback": [
      "\u001b[1;36m  File \u001b[1;32m\"<ipython-input-9-e75248c5fc06>\"\u001b[1;36m, line \u001b[1;32m1\u001b[0m\n\u001b[1;33m    1. 코드 블록 들여쓰기 신경쓰자\u001b[0m\n\u001b[1;37m        ^\u001b[0m\n\u001b[1;31mSyntaxError\u001b[0m\u001b[1;31m:\u001b[0m invalid syntax\n"
     ]
    }
   ],
   "source": [
    "1. 코드 블록 들여쓰기 신경쓰자\n",
    "<br>(space 4번과 tap 1번은 다르다)\n",
    "\n",
    "for i in s:\n",
    "    if in s:\n",
    "        \n",
    "2. 스크립트/interactive mode\n",
    "* 스크 트 - IDEL, spyder, 메모장, pycharm, atom ...\n",
    "    * 첫째줄 해석기 정보\n",
    "    * 둘째줄 인코딩\n",
    "* interactive mode - IPython > 문서 능력이 강해서 mark down 문서화 기능 활용함.\n",
    "\n",
    "3. 자료형\n",
    "    1. 수치형\n",
    "        * 정수형 : int, long\n",
    "        * 실수형 : float\n",
    "        * 복소수 : complex\n",
    "    2. 시퀀스\n",
    "        * 리스트 : list\n",
    "        * 문자열 : str\n",
    "        * 튜플 : tuple\n",
    "    3. 매핑 > 딕셔너리: dict\n",
    "        d = {k:v}\n",
    "4. 함수\n",
    "    1. def funct(a, b, c=2):\n",
    "            sum =a+b+c\n",
    "            return sum\n",
    "        r=funct(3,4)  "
   ]
  },
  {
   "cell_type": "markdown",
   "metadata": {},
   "source": [
    "# Numpy의 기능\n",
    "\n",
    "* 빠르고 메모리를 효율적으로 사용하며 벡터 산술연산과 세련된 브로드 캐스팅 기능을 제공하는 다차원 배열인 ndarray\n",
    "* 반복문을 작성한 필요 없이 전체 데이터 배열에 대해 빠른 연산을 제공하는 표준 수학 함수\n",
    "* 배열 데이터를 디스크에 쓰거나 읽을 수 있는 도구와 메모리에 올려진 파일을 사용하는 도구\n",
    "* 선형대수, 난수 발생기, 푸리에 변환기능\n",
    "* c, c++, 포트란으로 쓰여진 코드를 통합하는 도구"
   ]
  },
  {
   "cell_type": "markdown",
   "metadata": {},
   "source": [
    "## ndarray: 다차원 배열 객체"
   ]
  },
  {
   "cell_type": "code",
   "execution_count": 10,
   "metadata": {},
   "outputs": [
    {
     "data": {
      "text/plain": [
       "array([[ 1.5699065 ,  1.46383123,  0.47607673],\n",
       "       [-2.93159448, -2.40864882,  0.72553593]])"
      ]
     },
     "execution_count": 10,
     "metadata": {},
     "output_type": "execute_result"
    }
   ],
   "source": [
    "from numpy.random import randn\n",
    "import numpy as np\n",
    "data = randn(2, 3)\n",
    "data"
   ]
  },
  {
   "cell_type": "code",
   "execution_count": 11,
   "metadata": {},
   "outputs": [
    {
     "data": {
      "text/plain": [
       "array([[ 15.69906502,  14.63831225,   4.76076732],\n",
       "       [-29.31594485, -24.08648824,   7.25535932]])"
      ]
     },
     "execution_count": 11,
     "metadata": {},
     "output_type": "execute_result"
    }
   ],
   "source": [
    "data*10"
   ]
  },
  {
   "cell_type": "code",
   "execution_count": 12,
   "metadata": {},
   "outputs": [
    {
     "data": {
      "text/plain": [
       "array([[ 3.139813  ,  2.92766245,  0.95215346],\n",
       "       [-5.86318897, -4.81729765,  1.45107186]])"
      ]
     },
     "execution_count": 12,
     "metadata": {},
     "output_type": "execute_result"
    }
   ],
   "source": [
    "data+data"
   ]
  },
  {
   "cell_type": "code",
   "execution_count": 13,
   "metadata": {},
   "outputs": [
    {
     "data": {
      "text/plain": [
       "  C_CONTIGUOUS : True\n",
       "  F_CONTIGUOUS : False\n",
       "  OWNDATA : True\n",
       "  WRITEABLE : True\n",
       "  ALIGNED : True\n",
       "  WRITEBACKIFCOPY : False\n",
       "  UPDATEIFCOPY : False"
      ]
     },
     "execution_count": 13,
     "metadata": {},
     "output_type": "execute_result"
    }
   ],
   "source": [
    "data.flags"
   ]
  },
  {
   "cell_type": "code",
   "execution_count": 14,
   "metadata": {},
   "outputs": [
    {
     "data": {
      "text/plain": [
       "(2, 3)"
      ]
     },
     "execution_count": 14,
     "metadata": {},
     "output_type": "execute_result"
    }
   ],
   "source": [
    "data.shape"
   ]
  },
  {
   "cell_type": "code",
   "execution_count": 15,
   "metadata": {},
   "outputs": [
    {
     "data": {
      "text/plain": [
       "(24, 8)"
      ]
     },
     "execution_count": 15,
     "metadata": {},
     "output_type": "execute_result"
    }
   ],
   "source": [
    "data.strides"
   ]
  },
  {
   "cell_type": "code",
   "execution_count": 17,
   "metadata": {
    "scrolled": false
   },
   "outputs": [
    {
     "data": {
      "text/plain": [
       "2"
      ]
     },
     "execution_count": 17,
     "metadata": {},
     "output_type": "execute_result"
    }
   ],
   "source": [
    "data.ndim"
   ]
  },
  {
   "cell_type": "code",
   "execution_count": 18,
   "metadata": {},
   "outputs": [
    {
     "data": {
      "text/plain": [
       "<memory at 0x0000000007C6D7E0>"
      ]
     },
     "execution_count": 18,
     "metadata": {},
     "output_type": "execute_result"
    }
   ],
   "source": [
    "data.data"
   ]
  },
  {
   "cell_type": "code",
   "execution_count": 19,
   "metadata": {},
   "outputs": [
    {
     "data": {
      "text/plain": [
       "6"
      ]
     },
     "execution_count": 19,
     "metadata": {},
     "output_type": "execute_result"
    }
   ],
   "source": [
    "data.size"
   ]
  },
  {
   "cell_type": "code",
   "execution_count": 20,
   "metadata": {},
   "outputs": [
    {
     "data": {
      "text/plain": [
       "8"
      ]
     },
     "execution_count": 20,
     "metadata": {},
     "output_type": "execute_result"
    }
   ],
   "source": [
    "data.itemsize"
   ]
  },
  {
   "cell_type": "code",
   "execution_count": 22,
   "metadata": {},
   "outputs": [
    {
     "data": {
      "text/plain": [
       "48"
      ]
     },
     "execution_count": 22,
     "metadata": {},
     "output_type": "execute_result"
    }
   ],
   "source": [
    "data.nbytes"
   ]
  },
  {
   "cell_type": "code",
   "execution_count": 24,
   "metadata": {},
   "outputs": [],
   "source": [
    "data.base"
   ]
  },
  {
   "cell_type": "markdown",
   "metadata": {},
   "source": [
    "# Ndarray 객체의 속성\n",
    "    * ndarray 배열의 메모리 레이아웃에 대한 정보 속성\n",
    "|속성|설명|\n",
    "|----------|:-------------:|\n",
    "|ndarray.flags|배열의메모리레이아웃에대한정보|\n",
    "|ndarray.shape|배열의 차원을 의미하는 튜플|\n",
    "|ndarray.strides|하나의 배열을 횡단할 때 각차원에 들어가는 바이트들의 튜플|\n",
    "|ndarray.ndim|배열 차원의 수|\n",
    "|ndarray.data|배열의 데이터 시작점을 가리키는 파이썬 버퍼 객체|\n",
    "|ndarray.size|배열 안의 요소의 수|\n",
    "|ndarray.itemsize|바이트들 안에 있는 한 배열 요소의 길이|\n",
    "|ndarray.nbytes|배열의 원소들에 의해 소모되는 총 바이트|\n",
    "|ndarray.base|메모리가 다른 객체에서 부터 온 것일 경우의 기본객체|\n",
    "\n",
    "# Ndarray 객체의속성\n",
    "    * ndarray 배열 요소의 자료형 객체 속성\n",
    "|속성|설명|\n",
    "|----------|:-------------:|\n",
    "|ndarray.dtype|배열 요소의 자료형|\n",
    "\n",
    "    * ndarray 배열의 기타 속성\n",
    "|속성|설명|\n",
    "|----------|:-------------:|\n",
    "|ndarray.T|배열 차원의 수가 2보다 작으면 self를 리턴한다는 것만 빼면 self.transpose()와 같다|\n",
    "|ndarray.real|배열의 실수 부분|\n",
    "|ndarray.imag|배열의 허수 부분|\n",
    "|ndarray.flat|배열 전체를 가로지르는 1차원 iterator|\n",
    "|ndarray.ctypes|배열과 ctypes 모듈과의 상호작용을 단순하게 해주는 객체|\n"
   ]
  },
  {
   "cell_type": "markdown",
   "metadata": {},
   "source": [
    "# ndarray 생성\n",
    "    * 순차적인 파이썬 객체로부터 NumPy 배열을 생성하는 방법"
   ]
  },
  {
   "cell_type": "code",
   "execution_count": 25,
   "metadata": {},
   "outputs": [
    {
     "data": {
      "text/plain": [
       "array([6. , 7.5, 8. , 0. , 1. ])"
      ]
     },
     "execution_count": 25,
     "metadata": {},
     "output_type": "execute_result"
    }
   ],
   "source": [
    "data1=[6, 7.5, 8, 0, 1]\n",
    "arr1=np.array(data1)\n",
    "arr1"
   ]
  },
  {
   "cell_type": "code",
   "execution_count": 26,
   "metadata": {},
   "outputs": [
    {
     "data": {
      "text/plain": [
       "array([[1, 2, 3, 4],\n",
       "       [5, 6, 7, 8]])"
      ]
     },
     "execution_count": 26,
     "metadata": {},
     "output_type": "execute_result"
    }
   ],
   "source": [
    "data2=[[1,2,3,4],[5,6,7,8]]\n",
    "arr2=np.array(data2)\n",
    "arr2"
   ]
  },
  {
   "cell_type": "code",
   "execution_count": 27,
   "metadata": {},
   "outputs": [
    {
     "data": {
      "text/plain": [
       "array([6. , 7.5, 8. , 0. , 1. ])"
      ]
     },
     "execution_count": 27,
     "metadata": {},
     "output_type": "execute_result"
    }
   ],
   "source": [
    "arr1"
   ]
  },
  {
   "cell_type": "code",
   "execution_count": 28,
   "metadata": {},
   "outputs": [
    {
     "data": {
      "text/plain": [
       "1"
      ]
     },
     "execution_count": 28,
     "metadata": {},
     "output_type": "execute_result"
    }
   ],
   "source": [
    "arr1.ndim"
   ]
  },
  {
   "cell_type": "code",
   "execution_count": 29,
   "metadata": {},
   "outputs": [
    {
     "data": {
      "text/plain": [
       "(5,)"
      ]
     },
     "execution_count": 29,
     "metadata": {},
     "output_type": "execute_result"
    }
   ],
   "source": [
    "arr1.shape"
   ]
  },
  {
   "cell_type": "code",
   "execution_count": 30,
   "metadata": {},
   "outputs": [
    {
     "data": {
      "text/plain": [
       "dtype('float64')"
      ]
     },
     "execution_count": 30,
     "metadata": {},
     "output_type": "execute_result"
    }
   ],
   "source": [
    "arr1.dtype"
   ]
  },
  {
   "cell_type": "code",
   "execution_count": 31,
   "metadata": {},
   "outputs": [
    {
     "data": {
      "text/plain": [
       "array([[1, 2, 3, 4],\n",
       "       [5, 6, 7, 8]])"
      ]
     },
     "execution_count": 31,
     "metadata": {},
     "output_type": "execute_result"
    }
   ],
   "source": [
    "arr2"
   ]
  },
  {
   "cell_type": "code",
   "execution_count": 32,
   "metadata": {},
   "outputs": [
    {
     "data": {
      "text/plain": [
       "array([[1, 2, 3, 4],\n",
       "       [5, 6, 7, 8]])"
      ]
     },
     "execution_count": 32,
     "metadata": {},
     "output_type": "execute_result"
    }
   ],
   "source": [
    "arr2"
   ]
  },
  {
   "cell_type": "code",
   "execution_count": 33,
   "metadata": {},
   "outputs": [
    {
     "data": {
      "text/plain": [
       "2"
      ]
     },
     "execution_count": 33,
     "metadata": {},
     "output_type": "execute_result"
    }
   ],
   "source": [
    "arr2.ndim"
   ]
  },
  {
   "cell_type": "code",
   "execution_count": 34,
   "metadata": {},
   "outputs": [
    {
     "data": {
      "text/plain": [
       "(2, 4)"
      ]
     },
     "execution_count": 34,
     "metadata": {},
     "output_type": "execute_result"
    }
   ],
   "source": [
    "arr2.shape"
   ]
  },
  {
   "cell_type": "code",
   "execution_count": 35,
   "metadata": {},
   "outputs": [
    {
     "data": {
      "text/plain": [
       "dtype('int32')"
      ]
     },
     "execution_count": 35,
     "metadata": {},
     "output_type": "execute_result"
    }
   ],
   "source": [
    "arr2.dtype"
   ]
  },
  {
   "cell_type": "code",
   "execution_count": 36,
   "metadata": {},
   "outputs": [
    {
     "data": {
      "text/plain": [
       "array([0., 0., 0., 0., 0., 0., 0., 0., 0., 0.])"
      ]
     },
     "execution_count": 36,
     "metadata": {},
     "output_type": "execute_result"
    }
   ],
   "source": [
    "np.zeros(10)"
   ]
  },
  {
   "cell_type": "code",
   "execution_count": 37,
   "metadata": {},
   "outputs": [
    {
     "data": {
      "text/plain": [
       "array([[0., 0., 0., 0., 0., 0.],\n",
       "       [0., 0., 0., 0., 0., 0.],\n",
       "       [0., 0., 0., 0., 0., 0.]])"
      ]
     },
     "execution_count": 37,
     "metadata": {},
     "output_type": "execute_result"
    }
   ],
   "source": [
    "np.zeros((3,6))"
   ]
  },
  {
   "cell_type": "code",
   "execution_count": 38,
   "metadata": {},
   "outputs": [
    {
     "data": {
      "text/plain": [
       "array([[[3.49371140e-316, 9.63428009e-322, 0.00000000e+000,\n",
       "         0.00000000e+000, 7.74566030e+228],\n",
       "        [4.82337433e+228, 6.14415221e-144, 1.16097020e-028,\n",
       "         1.68891988e-052, 9.71665496e-067],\n",
       "        [6.12291345e-062, 3.97062373e+246, 1.16318408e-028,\n",
       "         4.46740277e-033, 4.42816038e+175]],\n",
       "\n",
       "       [[9.34865400e-067, 1.69258910e-052, 5.04621361e+180,\n",
       "         8.37170571e-144, 3.80985069e+180],\n",
       "        [3.59751658e+252, 3.62614926e+228, 8.37404121e+242,\n",
       "         5.01163225e+217, 8.37170074e-144],\n",
       "        [3.83841080e+175, 6.87088787e-038, 6.10228906e+170,\n",
       "         7.67404253e-042, 6.79770534e-310]]])"
      ]
     },
     "execution_count": 38,
     "metadata": {},
     "output_type": "execute_result"
    }
   ],
   "source": [
    "np.empty((2, 3, 5))"
   ]
  },
  {
   "cell_type": "code",
   "execution_count": 39,
   "metadata": {},
   "outputs": [
    {
     "data": {
      "text/plain": [
       "array([ 0,  1,  2,  3,  4,  5,  6,  7,  8,  9, 10, 11, 12, 13, 14])"
      ]
     },
     "execution_count": 39,
     "metadata": {},
     "output_type": "execute_result"
    }
   ],
   "source": [
    "np.arange(15)"
   ]
  },
  {
   "cell_type": "code",
   "execution_count": 41,
   "metadata": {},
   "outputs": [],
   "source": [
    "from numpy import arange"
   ]
  },
  {
   "cell_type": "code",
   "execution_count": 43,
   "metadata": {
    "scrolled": true
   },
   "outputs": [
    {
     "data": {
      "text/plain": [
       "  C_CONTIGUOUS : True\n",
       "  F_CONTIGUOUS : False\n",
       "  OWNDATA : False\n",
       "  WRITEABLE : True\n",
       "  ALIGNED : True\n",
       "  WRITEBACKIFCOPY : False\n",
       "  UPDATEIFCOPY : False"
      ]
     },
     "execution_count": 43,
     "metadata": {},
     "output_type": "execute_result"
    }
   ],
   "source": [
    "a3=arange(24).reshape((2,3,4))\n",
    "a3.flags"
   ]
  },
  {
   "cell_type": "code",
   "execution_count": 45,
   "metadata": {},
   "outputs": [
    {
     "data": {
      "text/plain": [
       "array([[[ 0,  1,  2,  3],\n",
       "        [ 4,  5,  6,  7],\n",
       "        [ 8,  9, 10, 11]],\n",
       "\n",
       "       [[12, 13, 14, 15],\n",
       "        [16, 17, 18, 19],\n",
       "        [20, 21, 22, 23]]])"
      ]
     },
     "execution_count": 45,
     "metadata": {},
     "output_type": "execute_result"
    }
   ],
   "source": [
    "a3"
   ]
  },
  {
   "cell_type": "code",
   "execution_count": null,
   "metadata": {},
   "outputs": [],
   "source": []
  },
  {
   "cell_type": "code",
   "execution_count": 46,
   "metadata": {},
   "outputs": [],
   "source": [
    "a3=arange(24).reshape((2,3,4), order='F')"
   ]
  },
  {
   "cell_type": "code",
   "execution_count": 53,
   "metadata": {},
   "outputs": [
    {
     "data": {
      "text/plain": [
       "array([[[ 0,  6, 12, 18],\n",
       "        [ 2,  8, 14, 20],\n",
       "        [ 4, 10, 16, 22]],\n",
       "\n",
       "       [[ 1,  7, 13, 19],\n",
       "        [ 3,  9, 15, 21],\n",
       "        [ 5, 11, 17, 23]]])"
      ]
     },
     "execution_count": 53,
     "metadata": {},
     "output_type": "execute_result"
    }
   ],
   "source": [
    "a3"
   ]
  },
  {
   "cell_type": "code",
   "execution_count": null,
   "metadata": {},
   "outputs": [],
   "source": []
  },
  {
   "cell_type": "code",
   "execution_count": 52,
   "metadata": {},
   "outputs": [
    {
     "data": {
      "text/plain": [
       "array([ 0,  6, 12, 18,  2,  8, 14, 20,  4, 10, 16, 22,  1,  7, 13, 19,  3,\n",
       "        9, 15, 21,  5, 11, 17, 23])"
      ]
     },
     "execution_count": 52,
     "metadata": {},
     "output_type": "execute_result"
    }
   ],
   "source": [
    "a3.flatten()"
   ]
  },
  {
   "cell_type": "code",
   "execution_count": 72,
   "metadata": {},
   "outputs": [
    {
     "data": {
      "text/plain": [
       "'C:\\\\AIPython_2'"
      ]
     },
     "execution_count": 72,
     "metadata": {},
     "output_type": "execute_result"
    }
   ],
   "source": [
    "%pwd"
   ]
  },
  {
   "cell_type": "code",
   "execution_count": null,
   "metadata": {},
   "outputs": [],
   "source": []
  },
  {
   "cell_type": "code",
   "execution_count": 87,
   "metadata": {},
   "outputs": [],
   "source": [
    "import numpy as np"
   ]
  },
  {
   "cell_type": "code",
   "execution_count": 88,
   "metadata": {},
   "outputs": [],
   "source": [
    "score = np.loadtxt(\"c:/AIPython_2/0530test/python_score.csv\", delimiter=',', dtype='float64')"
   ]
  },
  {
   "cell_type": "code",
   "execution_count": 89,
   "metadata": {},
   "outputs": [
    {
     "data": {
      "text/plain": [
       "array([[ 3.,  3.,  4.,  3.,  3.,  3.,  3.,  3.,  3.,  3.,  3.],\n",
       "       [ 4.,  4.,  4.,  4.,  4.,  3.,  4.,  4.,  2.,  2.,  4.],\n",
       "       [ 1.,  1.,  1.,  1.,  1.,  1.,  1.,  1.,  1.,  1.,  1.],\n",
       "       [ 1.,  1.,  1.,  1.,  1.,  1.,  1.,  1.,  2.,  1.,  1.],\n",
       "       [ 2.,  2.,  3.,  2.,  4.,  2.,  2.,  4.,  4.,  2.,  2.],\n",
       "       [ 2.,  4.,  2.,  4.,  2.,  2.,  2.,  2.,  4.,  2.,  2.],\n",
       "       [ 1.,  1.,  1.,  1.,  1.,  1.,  1.,  1.,  1.,  1.,  1.],\n",
       "       [ 4.,  4.,  4.,  4.,  4.,  4.,  4.,  4.,  4.,  4.,  4.],\n",
       "       [ 4.,  4.,  4.,  4.,  4.,  4.,  4.,  4.,  4.,  2.,  4.],\n",
       "       [ 2.,  2.,  2.,  2.,  2.,  2.,  2.,  2.,  2.,  2.,  2.],\n",
       "       [ 4.,  3.,  4.,  4.,  2.,  4.,  4.,  4.,  4.,  4.,  4.],\n",
       "       [ 3.,  3.,  3.,  2.,  3.,  3.,  3.,  3.,  3.,  3.,  3.],\n",
       "       [ 3.,  3.,  3.,  3.,  3.,  3.,  3.,  3.,  3.,  3.,  3.],\n",
       "       [ 3.,  2.,  3.,  3.,  3.,  3.,  1.,  3.,  3.,  3.,  3.],\n",
       "       [ 2.,  2.,  4.,  2.,  2.,  2.,  2.,  2.,  2.,  2.,  2.],\n",
       "       [ 2.,  2.,  2.,  1.,  1.,  2.,  2.,  2.,  2.,  2.,  2.],\n",
       "       [ 1.,  1.,  1.,  1.,  1.,  1.,  1.,  1.,  2.,  1.,  1.],\n",
       "       [ 2.,  2.,  2.,  2.,  2.,  2.,  2.,  2.,  4.,  2.,  2.],\n",
       "       [ 2.,  2.,  4.,  2.,  2.,  2.,  2.,  2.,  2.,  2.,  2.],\n",
       "       [ 2.,  1.,  2.,  4.,  4.,  2.,  3.,  2.,  1.,  3.,  2.],\n",
       "       [ 9.,  4., 10.,  9.,  6.,  8., 10.,  7.,  6.,  9., 10.],\n",
       "       [ 5.,  7.,  8.,  5.,  7.,  8.,  6.,  8.,  9., 10., 10.]])"
      ]
     },
     "execution_count": 89,
     "metadata": {},
     "output_type": "execute_result"
    }
   ],
   "source": [
    "score"
   ]
  },
  {
   "cell_type": "markdown",
   "metadata": {},
   "source": [
    "0~9 칼럼이 사람별 점수 set\n",
    "<br>10 칼럼이 정답\n",
    "<br>0~19 행이 객관식 답안\n",
    "<br>20~21 행이 주관식 점수\n",
    "\n",
    "1. 정답을 > answer\n",
    "2. 객관식 답안 > dset\n",
    "3. dset중 정답 True, 오답 False\n",
    "                bool_answer"
   ]
  },
  {
   "cell_type": "code",
   "execution_count": 77,
   "metadata": {},
   "outputs": [
    {
     "data": {
      "text/plain": [
       "  C_CONTIGUOUS : True\n",
       "  F_CONTIGUOUS : False\n",
       "  OWNDATA : False\n",
       "  WRITEABLE : True\n",
       "  ALIGNED : True\n",
       "  WRITEBACKIFCOPY : False\n",
       "  UPDATEIFCOPY : False"
      ]
     },
     "execution_count": 77,
     "metadata": {},
     "output_type": "execute_result"
    }
   ],
   "source": [
    "score.flags"
   ]
  },
  {
   "cell_type": "code",
   "execution_count": 90,
   "metadata": {},
   "outputs": [
    {
     "data": {
      "text/plain": [
       "(22, 11)"
      ]
     },
     "execution_count": 90,
     "metadata": {},
     "output_type": "execute_result"
    }
   ],
   "source": [
    "score.shape"
   ]
  },
  {
   "cell_type": "code",
   "execution_count": 96,
   "metadata": {},
   "outputs": [
    {
     "data": {
      "text/plain": [
       "array([[ 3.,  3.,  4.,  3.,  3.,  3.,  3.,  3.,  3.,  3.,  3.],\n",
       "       [ 4.,  4.,  4.,  4.,  4.,  3.,  4.,  4.,  2.,  2.,  4.],\n",
       "       [ 1.,  1.,  1.,  1.,  1.,  1.,  1.,  1.,  1.,  1.,  1.],\n",
       "       [ 1.,  1.,  1.,  1.,  1.,  1.,  1.,  1.,  2.,  1.,  1.],\n",
       "       [ 2.,  2.,  3.,  2.,  4.,  2.,  2.,  4.,  4.,  2.,  2.],\n",
       "       [ 2.,  4.,  2.,  4.,  2.,  2.,  2.,  2.,  4.,  2.,  2.],\n",
       "       [ 1.,  1.,  1.,  1.,  1.,  1.,  1.,  1.,  1.,  1.,  1.],\n",
       "       [ 4.,  4.,  4.,  4.,  4.,  4.,  4.,  4.,  4.,  4.,  4.],\n",
       "       [ 4.,  4.,  4.,  4.,  4.,  4.,  4.,  4.,  4.,  2.,  4.],\n",
       "       [ 2.,  2.,  2.,  2.,  2.,  2.,  2.,  2.,  2.,  2.,  2.],\n",
       "       [ 4.,  3.,  4.,  4.,  2.,  4.,  4.,  4.,  4.,  4.,  4.],\n",
       "       [ 3.,  3.,  3.,  2.,  3.,  3.,  3.,  3.,  3.,  3.,  3.],\n",
       "       [ 3.,  3.,  3.,  3.,  3.,  3.,  3.,  3.,  3.,  3.,  3.],\n",
       "       [ 3.,  2.,  3.,  3.,  3.,  3.,  1.,  3.,  3.,  3.,  3.],\n",
       "       [ 2.,  2.,  4.,  2.,  2.,  2.,  2.,  2.,  2.,  2.,  2.],\n",
       "       [ 2.,  2.,  2.,  1.,  1.,  2.,  2.,  2.,  2.,  2.,  2.],\n",
       "       [ 1.,  1.,  1.,  1.,  1.,  1.,  1.,  1.,  2.,  1.,  1.],\n",
       "       [ 2.,  2.,  2.,  2.,  2.,  2.,  2.,  2.,  4.,  2.,  2.],\n",
       "       [ 2.,  2.,  4.,  2.,  2.,  2.,  2.,  2.,  2.,  2.,  2.],\n",
       "       [ 2.,  1.,  2.,  4.,  4.,  2.,  3.,  2.,  1.,  3.,  2.],\n",
       "       [ 9.,  4., 10.,  9.,  6.,  8., 10.,  7.,  6.,  9., 10.],\n",
       "       [ 5.,  7.,  8.,  5.,  7.,  8.,  6.,  8.,  9., 10., 10.]])"
      ]
     },
     "execution_count": 96,
     "metadata": {},
     "output_type": "execute_result"
    }
   ],
   "source": [
    "answer=score[:19]\n",
    "score"
   ]
  },
  {
   "cell_type": "code",
   "execution_count": 97,
   "metadata": {},
   "outputs": [
    {
     "data": {
      "text/plain": [
       "array([[ 3.,  3.,  4.,  3.,  3.,  3.,  3.,  3.,  3.,  3.,  3.],\n",
       "       [ 4.,  4.,  4.,  4.,  4.,  3.,  4.,  4.,  2.,  2.,  4.],\n",
       "       [ 1.,  1.,  1.,  1.,  1.,  1.,  1.,  1.,  1.,  1.,  1.],\n",
       "       [ 1.,  1.,  1.,  1.,  1.,  1.,  1.,  1.,  2.,  1.,  1.],\n",
       "       [ 2.,  2.,  3.,  2.,  4.,  2.,  2.,  4.,  4.,  2.,  2.],\n",
       "       [ 2.,  4.,  2.,  4.,  2.,  2.,  2.,  2.,  4.,  2.,  2.],\n",
       "       [ 1.,  1.,  1.,  1.,  1.,  1.,  1.,  1.,  1.,  1.,  1.],\n",
       "       [ 4.,  4.,  4.,  4.,  4.,  4.,  4.,  4.,  4.,  4.,  4.],\n",
       "       [ 4.,  4.,  4.,  4.,  4.,  4.,  4.,  4.,  4.,  2.,  4.],\n",
       "       [ 2.,  2.,  2.,  2.,  2.,  2.,  2.,  2.,  2.,  2.,  2.],\n",
       "       [ 4.,  3.,  4.,  4.,  2.,  4.,  4.,  4.,  4.,  4.,  4.],\n",
       "       [ 3.,  3.,  3.,  2.,  3.,  3.,  3.,  3.,  3.,  3.,  3.],\n",
       "       [ 3.,  3.,  3.,  3.,  3.,  3.,  3.,  3.,  3.,  3.,  3.],\n",
       "       [ 3.,  2.,  3.,  3.,  3.,  3.,  1.,  3.,  3.,  3.,  3.],\n",
       "       [ 2.,  2.,  4.,  2.,  2.,  2.,  2.,  2.,  2.,  2.,  2.],\n",
       "       [ 2.,  2.,  2.,  1.,  1.,  2.,  2.,  2.,  2.,  2.,  2.],\n",
       "       [ 1.,  1.,  1.,  1.,  1.,  1.,  1.,  1.,  2.,  1.,  1.],\n",
       "       [ 2.,  2.,  2.,  2.,  2.,  2.,  2.,  2.,  4.,  2.,  2.],\n",
       "       [ 2.,  2.,  4.,  2.,  2.,  2.,  2.,  2.,  2.,  2.,  2.],\n",
       "       [ 2.,  1.,  2.,  4.,  4.,  2.,  3.,  2.,  1.,  3.,  2.],\n",
       "       [ 9.,  4., 10.,  9.,  6.,  8., 10.,  7.,  6.,  9., 10.],\n",
       "       [ 5.,  7.,  8.,  5.,  7.,  8.,  6.,  8.,  9., 10., 10.]])"
      ]
     },
     "execution_count": 97,
     "metadata": {},
     "output_type": "execute_result"
    }
   ],
   "source": [
    "score"
   ]
  },
  {
   "cell_type": "code",
   "execution_count": 111,
   "metadata": {},
   "outputs": [
    {
     "data": {
      "text/plain": [
       "array([[ 3.],\n",
       "       [ 4.],\n",
       "       [ 1.],\n",
       "       [ 1.],\n",
       "       [ 2.],\n",
       "       [ 2.],\n",
       "       [ 1.],\n",
       "       [ 4.],\n",
       "       [ 4.],\n",
       "       [ 2.],\n",
       "       [ 4.],\n",
       "       [ 3.],\n",
       "       [ 3.],\n",
       "       [ 3.],\n",
       "       [ 2.],\n",
       "       [ 2.],\n",
       "       [ 1.],\n",
       "       [ 2.],\n",
       "       [ 2.],\n",
       "       [ 2.],\n",
       "       [10.],\n",
       "       [10.]])"
      ]
     },
     "execution_count": 111,
     "metadata": {},
     "output_type": "execute_result"
    }
   ],
   "source": [
    "score[:,10:]"
   ]
  },
  {
   "cell_type": "code",
   "execution_count": 112,
   "metadata": {},
   "outputs": [
    {
     "data": {
      "text/plain": [
       "array([3., 4., 1., 1., 2., 2., 1., 4., 4., 2., 4., 3., 3., 3., 2., 2., 1.,\n",
       "       2., 2., 2.])"
      ]
     },
     "execution_count": 112,
     "metadata": {},
     "output_type": "execute_result"
    }
   ],
   "source": [
    "answer=score[:20,-1]\n",
    "answer"
   ]
  },
  {
   "cell_type": "code",
   "execution_count": 113,
   "metadata": {},
   "outputs": [
    {
     "data": {
      "text/plain": [
       "array([[3., 4., 1., 1., 2., 2., 1., 4., 4., 2., 4., 3., 3., 3., 2., 2.,\n",
       "        1., 2., 2., 2.],\n",
       "       [3., 4., 1., 1., 2., 4., 1., 4., 4., 2., 3., 3., 3., 2., 2., 2.,\n",
       "        1., 2., 2., 1.],\n",
       "       [4., 4., 1., 1., 3., 2., 1., 4., 4., 2., 4., 3., 3., 3., 4., 2.,\n",
       "        1., 2., 4., 2.],\n",
       "       [3., 4., 1., 1., 2., 4., 1., 4., 4., 2., 4., 2., 3., 3., 2., 1.,\n",
       "        1., 2., 2., 4.],\n",
       "       [3., 4., 1., 1., 4., 2., 1., 4., 4., 2., 2., 3., 3., 3., 2., 1.,\n",
       "        1., 2., 2., 4.],\n",
       "       [3., 3., 1., 1., 2., 2., 1., 4., 4., 2., 4., 3., 3., 3., 2., 2.,\n",
       "        1., 2., 2., 2.],\n",
       "       [3., 4., 1., 1., 2., 2., 1., 4., 4., 2., 4., 3., 3., 1., 2., 2.,\n",
       "        1., 2., 2., 3.],\n",
       "       [3., 4., 1., 1., 4., 2., 1., 4., 4., 2., 4., 3., 3., 3., 2., 2.,\n",
       "        1., 2., 2., 2.],\n",
       "       [3., 2., 1., 2., 4., 4., 1., 4., 4., 2., 4., 3., 3., 3., 2., 2.,\n",
       "        2., 4., 2., 1.],\n",
       "       [3., 2., 1., 1., 2., 2., 1., 4., 2., 2., 4., 3., 3., 3., 2., 2.,\n",
       "        1., 2., 2., 3.]])"
      ]
     },
     "execution_count": 113,
     "metadata": {},
     "output_type": "execute_result"
    }
   ],
   "source": [
    "dset=score[:20, :10].T\n",
    "dset"
   ]
  },
  {
   "cell_type": "code",
   "execution_count": 114,
   "metadata": {},
   "outputs": [
    {
     "data": {
      "text/plain": [
       "array([[ True,  True,  True,  True,  True,  True,  True,  True,  True,\n",
       "         True,  True,  True,  True,  True,  True,  True,  True,  True,\n",
       "         True,  True],\n",
       "       [ True,  True,  True,  True,  True, False,  True,  True,  True,\n",
       "         True, False,  True,  True, False,  True,  True,  True,  True,\n",
       "         True, False],\n",
       "       [False,  True,  True,  True, False,  True,  True,  True,  True,\n",
       "         True,  True,  True,  True,  True, False,  True,  True,  True,\n",
       "        False,  True],\n",
       "       [ True,  True,  True,  True,  True, False,  True,  True,  True,\n",
       "         True,  True, False,  True,  True,  True, False,  True,  True,\n",
       "         True, False],\n",
       "       [ True,  True,  True,  True, False,  True,  True,  True,  True,\n",
       "         True, False,  True,  True,  True,  True, False,  True,  True,\n",
       "         True, False],\n",
       "       [ True, False,  True,  True,  True,  True,  True,  True,  True,\n",
       "         True,  True,  True,  True,  True,  True,  True,  True,  True,\n",
       "         True,  True],\n",
       "       [ True,  True,  True,  True,  True,  True,  True,  True,  True,\n",
       "         True,  True,  True,  True, False,  True,  True,  True,  True,\n",
       "         True, False],\n",
       "       [ True,  True,  True,  True, False,  True,  True,  True,  True,\n",
       "         True,  True,  True,  True,  True,  True,  True,  True,  True,\n",
       "         True,  True],\n",
       "       [ True, False,  True, False, False, False,  True,  True,  True,\n",
       "         True,  True,  True,  True,  True,  True,  True, False, False,\n",
       "         True, False],\n",
       "       [ True, False,  True,  True,  True,  True,  True,  True, False,\n",
       "         True,  True,  True,  True,  True,  True,  True,  True,  True,\n",
       "         True, False]])"
      ]
     },
     "execution_count": 114,
     "metadata": {},
     "output_type": "execute_result"
    }
   ],
   "source": [
    "bool_dset=(dset == answer)\n",
    "bool_dset"
   ]
  },
  {
   "cell_type": "code",
   "execution_count": 290,
   "metadata": {},
   "outputs": [
    {
     "data": {
      "text/plain": [
       "array([2.2000386e-43+0.j, 1.2499582e-42+0.j, 7.0064923e-45+0.j,\n",
       "       2.9379352e-36+0.j, 0.0000000e+00+0.j, 9.1842503e-41+0.j,\n",
       "       2.9304477e-36+0.j, 0.0000000e+00+0.j], dtype=complex64)"
      ]
     },
     "execution_count": 290,
     "metadata": {},
     "output_type": "execute_result"
    }
   ],
   "source": [
    "empty_uint32=np.empty(8, dtype='c8')\n",
    "empty_uint32"
   ]
  },
  {
   "cell_type": "code",
   "execution_count": 304,
   "metadata": {},
   "outputs": [],
   "source": [
    "arr=np.array([[[1.,2.,3.],[4.,5.,6.],[7.,8.,9.]]])"
   ]
  },
  {
   "cell_type": "code",
   "execution_count": 305,
   "metadata": {},
   "outputs": [
    {
     "name": "stdout",
     "output_type": "stream",
     "text": [
      "1 [[1. 2. 3.]\n",
      " [4. 5. 6.]\n",
      " [7. 8. 9.]]\n"
     ]
    }
   ],
   "source": [
    "for i, v in enumerate(arr, 1):\n",
    "    print (i, v)"
   ]
  },
  {
   "cell_type": "code",
   "execution_count": 306,
   "metadata": {},
   "outputs": [
    {
     "name": "stdout",
     "output_type": "stream",
     "text": [
      "1 1.0\n",
      "2 2.0\n",
      "3 3.0\n",
      "4 4.0\n",
      "5 5.0\n",
      "6 6.0\n",
      "7 7.0\n",
      "8 8.0\n",
      "9 9.0\n"
     ]
    }
   ],
   "source": [
    "for i, v in enumerate(arr.flatten(), 1):\n",
    "    print (i, v)"
   ]
  },
  {
   "cell_type": "code",
   "execution_count": 307,
   "metadata": {},
   "outputs": [
    {
     "name": "stdout",
     "output_type": "stream",
     "text": [
      "[1. 2. 3. 4. 5. 6. 7. 8. 9.]\n"
     ]
    }
   ],
   "source": [
    "print (arr.flatten())"
   ]
  },
  {
   "cell_type": "markdown",
   "metadata": {},
   "source": [
    "# 색인과 슬라이싱 기초 "
   ]
  },
  {
   "cell_type": "code",
   "execution_count": 2,
   "metadata": {},
   "outputs": [],
   "source": [
    "import numpy as np"
   ]
  },
  {
   "cell_type": "code",
   "execution_count": 4,
   "metadata": {},
   "outputs": [
    {
     "data": {
      "text/plain": [
       "array([[[ 1,  2,  3],\n",
       "        [ 4,  5,  6]],\n",
       "\n",
       "       [[ 7,  8,  9],\n",
       "        [10, 11, 12]]])"
      ]
     },
     "execution_count": 4,
     "metadata": {},
     "output_type": "execute_result"
    }
   ],
   "source": [
    "arr3d=np.array([[[1,2,3],[4,5,6]],[[7,8,9],[10,11,12]]])\n",
    "\n",
    "arr3d"
   ]
  },
  {
   "cell_type": "code",
   "execution_count": 6,
   "metadata": {},
   "outputs": [
    {
     "data": {
      "text/plain": [
       "6"
      ]
     },
     "execution_count": 6,
     "metadata": {},
     "output_type": "execute_result"
    }
   ],
   "source": [
    "arr3d[0][1][2]"
   ]
  },
  {
   "cell_type": "code",
   "execution_count": 8,
   "metadata": {},
   "outputs": [
    {
     "name": "stdout",
     "output_type": "stream",
     "text": [
      "[[1 2 3]\n",
      " [4 5 6]]\n"
     ]
    },
    {
     "data": {
      "text/plain": [
       "array([[1, 2, 3],\n",
       "       [4, 5, 6]])"
      ]
     },
     "execution_count": 8,
     "metadata": {},
     "output_type": "execute_result"
    }
   ],
   "source": [
    "old_valus=arr3d[0].copy()\n",
    "print (old_valus)\n",
    "old_valus"
   ]
  },
  {
   "cell_type": "code",
   "execution_count": 9,
   "metadata": {},
   "outputs": [
    {
     "name": "stdout",
     "output_type": "stream",
     "text": [
      "[[ 7  8  9]\n",
      " [10 11 12]]\n"
     ]
    },
    {
     "data": {
      "text/plain": [
       "array([[ 7,  8,  9],\n",
       "       [10, 11, 12]])"
      ]
     },
     "execution_count": 9,
     "metadata": {},
     "output_type": "execute_result"
    }
   ],
   "source": [
    "old_valus=arr3d[1].copy()\n",
    "print (old_valus)\n",
    "old_valus"
   ]
  },
  {
   "cell_type": "code",
   "execution_count": 27,
   "metadata": {},
   "outputs": [
    {
     "data": {
      "text/plain": [
       "array([[7]])"
      ]
     },
     "execution_count": 27,
     "metadata": {},
     "output_type": "execute_result"
    }
   ],
   "source": [
    "np.array([7]).reshape(1,1)"
   ]
  },
  {
   "cell_type": "code",
   "execution_count": 26,
   "metadata": {},
   "outputs": [
    {
     "data": {
      "text/plain": [
       "array([[0, 1],\n",
       "       [2, 3]])"
      ]
     },
     "execution_count": 26,
     "metadata": {},
     "output_type": "execute_result"
    }
   ],
   "source": [
    "np.arange(4).reshape(2,2)"
   ]
  },
  {
   "cell_type": "code",
   "execution_count": null,
   "metadata": {},
   "outputs": [],
   "source": [
    "np."
   ]
  },
  {
   "cell_type": "code",
   "execution_count": null,
   "metadata": {},
   "outputs": [],
   "source": []
  },
  {
   "cell_type": "code",
   "execution_count": null,
   "metadata": {},
   "outputs": [],
   "source": []
  },
  {
   "cell_type": "code",
   "execution_count": null,
   "metadata": {},
   "outputs": [],
   "source": []
  },
  {
   "cell_type": "code",
   "execution_count": null,
   "metadata": {},
   "outputs": [],
   "source": []
  },
  {
   "cell_type": "code",
   "execution_count": null,
   "metadata": {},
   "outputs": [],
   "source": []
  },
  {
   "cell_type": "code",
   "execution_count": null,
   "metadata": {},
   "outputs": [],
   "source": []
  },
  {
   "cell_type": "code",
   "execution_count": null,
   "metadata": {},
   "outputs": [],
   "source": []
  },
  {
   "cell_type": "code",
   "execution_count": null,
   "metadata": {},
   "outputs": [],
   "source": []
  },
  {
   "cell_type": "code",
   "execution_count": null,
   "metadata": {},
   "outputs": [],
   "source": []
  },
  {
   "cell_type": "code",
   "execution_count": null,
   "metadata": {},
   "outputs": [],
   "source": []
  }
 ],
 "metadata": {
  "kernelspec": {
   "display_name": "Python 3",
   "language": "python",
   "name": "python3"
  },
  "language_info": {
   "codemirror_mode": {
    "name": "ipython",
    "version": 3
   },
   "file_extension": ".py",
   "mimetype": "text/x-python",
   "name": "python",
   "nbconvert_exporter": "python",
   "pygments_lexer": "ipython3",
   "version": "3.6.4"
  }
 },
 "nbformat": 4,
 "nbformat_minor": 2
}
