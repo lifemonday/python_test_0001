{
 "cells": [
  {
   "attachments": {},
   "cell_type": "markdown",
   "metadata": {},
   "source": [
    "# Day6 (6월 5일)\n",
    "* 학습목표: \n",
    "    * 텍스트 파일, 데이터베이스, 웹 등 다양한 데이터 소스로부터 데이터를 수집하고 분석할 수 있도록 준비한다.\n",
    "* 과제:\n",
    "    * 과제 1\n",
    "        * concrete.csv의 각 열의 데이터를 zscore 표준화하는 zscore_standize 함수를 정의하고 이를 적용한 결과를 zs_concrete에 대입하라.\n",
    "        * concrete.csv의 각 열의 데이터를 최소-최대 정규화하는 minmax_normalize 함수를 정의하고 이를 적용한 결과를 mm_concrete에 대입하라.\n",
    "        * 3. 1과 2에서 정규화한 데이터를 시각화하라.\n",
    "    * 과제 2\n",
    "        * concrete_na.csv를 읽어들여 DataFrame 객체 c2를 만든다.\n",
    "        * c2에서 누락 값을 처리하여 zscore_standize를 적용한 zsc2를 생성한다.\n",
    "        * c2에서 누락 값을 처리하여 minmax_normalize를 적용한 mmc2를 생성한다. \n"
   ]
  },
  {
   "cell_type": "code",
   "execution_count": 1,
   "metadata": {},
   "outputs": [],
   "source": [
    "from __future__ import division\n",
    "from numpy.random import randn\n",
    "import numpy as np\n",
    "import os\n",
    "import matplotlib.pyplot as plt\n",
    "np.random.seed(12345)\n",
    "plt.rc('figure', figsize=(10, 6))\n",
    "from pandas import Series, DataFrame\n",
    "import pandas as pd\n",
    "np.set_printoptions(precision=4)\n",
    "from scipy.stats import zscore\n",
    "import sys"
   ]
  },
  {
   "cell_type": "code",
   "execution_count": 2,
   "metadata": {},
   "outputs": [
    {
     "data": {
      "text/html": [
       "<style>\n",
       ".output {\n",
       "    flex-direction: row;\n",
       "}\n",
       "</style>"
      ],
      "text/plain": [
       "<IPython.core.display.HTML object>"
      ]
     },
     "execution_count": 2,
     "metadata": {},
     "output_type": "execute_result"
    }
   ],
   "source": [
    "from IPython.display import display, HTML\n",
    "\n",
    "CSS = \"\"\"\n",
    ".output {\n",
    "    flex-direction: row;\n",
    "}\n",
    "\"\"\"\n",
    "\n",
    "HTML('<style>{}</style>'.format(CSS))"
   ]
  },
  {
   "cell_type": "code",
   "execution_count": 3,
   "metadata": {},
   "outputs": [],
   "source": [
    "c1 = pd.read_csv('c:/AIPython_2/concrete.csv')"
   ]
  },
  {
   "cell_type": "code",
   "execution_count": 7,
   "metadata": {},
   "outputs": [],
   "source": [
    "def zscore_standize2(x):\n",
    "    return Series([x.min(), x.max(), x.mean(), x.std()], index=['min', 'max', 'mean', 'std'])"
   ]
  },
  {
   "cell_type": "code",
   "execution_count": 8,
   "metadata": {},
   "outputs": [
    {
     "data": {
      "text/html": [
       "<div>\n",
       "<style scoped>\n",
       "    .dataframe tbody tr th:only-of-type {\n",
       "        vertical-align: middle;\n",
       "    }\n",
       "\n",
       "    .dataframe tbody tr th {\n",
       "        vertical-align: top;\n",
       "    }\n",
       "\n",
       "    .dataframe thead th {\n",
       "        text-align: right;\n",
       "    }\n",
       "</style>\n",
       "<table border=\"1\" class=\"dataframe\">\n",
       "  <thead>\n",
       "    <tr style=\"text-align: right;\">\n",
       "      <th></th>\n",
       "      <th>cement</th>\n",
       "      <th>slag</th>\n",
       "      <th>ash</th>\n",
       "      <th>water</th>\n",
       "      <th>superplastic</th>\n",
       "      <th>coarseagg</th>\n",
       "      <th>fineagg</th>\n",
       "      <th>age</th>\n",
       "      <th>strength</th>\n",
       "    </tr>\n",
       "  </thead>\n",
       "  <tbody>\n",
       "    <tr>\n",
       "      <th>min</th>\n",
       "      <td>102.000000</td>\n",
       "      <td>0.000000</td>\n",
       "      <td>0.000000</td>\n",
       "      <td>121.800000</td>\n",
       "      <td>0.000000</td>\n",
       "      <td>801.000000</td>\n",
       "      <td>594.000000</td>\n",
       "      <td>1.000000</td>\n",
       "      <td>2.330000</td>\n",
       "    </tr>\n",
       "    <tr>\n",
       "      <th>max</th>\n",
       "      <td>540.000000</td>\n",
       "      <td>359.400000</td>\n",
       "      <td>200.100000</td>\n",
       "      <td>247.000000</td>\n",
       "      <td>32.200000</td>\n",
       "      <td>1145.000000</td>\n",
       "      <td>992.600000</td>\n",
       "      <td>365.000000</td>\n",
       "      <td>82.600000</td>\n",
       "    </tr>\n",
       "    <tr>\n",
       "      <th>mean</th>\n",
       "      <td>281.167864</td>\n",
       "      <td>73.895825</td>\n",
       "      <td>54.188350</td>\n",
       "      <td>181.567282</td>\n",
       "      <td>6.204660</td>\n",
       "      <td>972.918932</td>\n",
       "      <td>773.580485</td>\n",
       "      <td>45.662136</td>\n",
       "      <td>35.817961</td>\n",
       "    </tr>\n",
       "    <tr>\n",
       "      <th>std</th>\n",
       "      <td>104.506364</td>\n",
       "      <td>86.279342</td>\n",
       "      <td>63.997004</td>\n",
       "      <td>21.354219</td>\n",
       "      <td>5.973841</td>\n",
       "      <td>77.753954</td>\n",
       "      <td>80.175980</td>\n",
       "      <td>63.169912</td>\n",
       "      <td>16.705742</td>\n",
       "    </tr>\n",
       "  </tbody>\n",
       "</table>\n",
       "</div>"
      ],
      "text/plain": [
       "          cement        slag         ash       water  superplastic  \\\n",
       "min   102.000000    0.000000    0.000000  121.800000      0.000000   \n",
       "max   540.000000  359.400000  200.100000  247.000000     32.200000   \n",
       "mean  281.167864   73.895825   54.188350  181.567282      6.204660   \n",
       "std   104.506364   86.279342   63.997004   21.354219      5.973841   \n",
       "\n",
       "        coarseagg     fineagg         age   strength  \n",
       "min    801.000000  594.000000    1.000000   2.330000  \n",
       "max   1145.000000  992.600000  365.000000  82.600000  \n",
       "mean   972.918932  773.580485   45.662136  35.817961  \n",
       "std     77.753954   80.175980   63.169912  16.705742  "
      ]
     },
     "execution_count": 8,
     "metadata": {},
     "output_type": "execute_result"
    }
   ],
   "source": [
    "ts1=c1.apply(zscore_standize2)\n",
    "ts1"
   ]
  },
  {
   "cell_type": "code",
   "execution_count": 9,
   "metadata": {},
   "outputs": [],
   "source": [
    "def zscore_standize(x):\n",
    "    series_mean = Series(np.ones(x.size)*x.mean())\n",
    "    series_std =  Series(np.ones(x.size)*x.std())\n",
    "    series_result = (x- series_mean)/series_std   \n",
    "    return series_result"
   ]
  },
  {
   "cell_type": "code",
   "execution_count": 10,
   "metadata": {},
   "outputs": [
    {
     "data": {
      "text/html": [
       "<div>\n",
       "<style scoped>\n",
       "    .dataframe tbody tr th:only-of-type {\n",
       "        vertical-align: middle;\n",
       "    }\n",
       "\n",
       "    .dataframe tbody tr th {\n",
       "        vertical-align: top;\n",
       "    }\n",
       "\n",
       "    .dataframe thead th {\n",
       "        text-align: right;\n",
       "    }\n",
       "</style>\n",
       "<table border=\"1\" class=\"dataframe\">\n",
       "  <thead>\n",
       "    <tr style=\"text-align: right;\">\n",
       "      <th></th>\n",
       "      <th>cement</th>\n",
       "      <th>slag</th>\n",
       "      <th>ash</th>\n",
       "      <th>water</th>\n",
       "      <th>superplastic</th>\n",
       "      <th>coarseagg</th>\n",
       "      <th>fineagg</th>\n",
       "      <th>age</th>\n",
       "      <th>strength</th>\n",
       "    </tr>\n",
       "  </thead>\n",
       "  <tbody>\n",
       "    <tr>\n",
       "      <th>0</th>\n",
       "      <td>-1.338367</td>\n",
       "      <td>1.600663</td>\n",
       "      <td>-0.846733</td>\n",
       "      <td>1.027091</td>\n",
       "      <td>-1.038638</td>\n",
       "      <td>-0.014391</td>\n",
       "      <td>-0.312818</td>\n",
       "      <td>-0.279597</td>\n",
       "      <td>-0.354846</td>\n",
       "    </tr>\n",
       "    <tr>\n",
       "      <th>1</th>\n",
       "      <td>-1.074268</td>\n",
       "      <td>-0.367363</td>\n",
       "      <td>1.095546</td>\n",
       "      <td>-1.089587</td>\n",
       "      <td>0.769244</td>\n",
       "      <td>1.387467</td>\n",
       "      <td>0.282123</td>\n",
       "      <td>-0.501222</td>\n",
       "      <td>-0.736750</td>\n",
       "    </tr>\n",
       "  </tbody>\n",
       "</table>\n",
       "</div>"
      ],
      "text/plain": [
       "     cement      slag       ash     water  superplastic  coarseagg   fineagg  \\\n",
       "0 -1.338367  1.600663 -0.846733  1.027091     -1.038638  -0.014391 -0.312818   \n",
       "1 -1.074268 -0.367363  1.095546 -1.089587      0.769244   1.387467  0.282123   \n",
       "\n",
       "        age  strength  \n",
       "0 -0.279597 -0.354846  \n",
       "1 -0.501222 -0.736750  "
      ]
     },
     "execution_count": 10,
     "metadata": {},
     "output_type": "execute_result"
    }
   ],
   "source": [
    "zs_cement = c1.apply(zscore_standize)\n",
    "zs_cement.head(2)"
   ]
  },
  {
   "cell_type": "code",
   "execution_count": 13,
   "metadata": {},
   "outputs": [
    {
     "data": {
      "text/html": [
       "<div>\n",
       "<style scoped>\n",
       "    .dataframe tbody tr th:only-of-type {\n",
       "        vertical-align: middle;\n",
       "    }\n",
       "\n",
       "    .dataframe tbody tr th {\n",
       "        vertical-align: top;\n",
       "    }\n",
       "\n",
       "    .dataframe thead th {\n",
       "        text-align: right;\n",
       "    }\n",
       "</style>\n",
       "<table border=\"1\" class=\"dataframe\">\n",
       "  <thead>\n",
       "    <tr style=\"text-align: right;\">\n",
       "      <th></th>\n",
       "      <th>cement</th>\n",
       "      <th>slag</th>\n",
       "      <th>ash</th>\n",
       "      <th>water</th>\n",
       "      <th>superplastic</th>\n",
       "      <th>coarseagg</th>\n",
       "      <th>fineagg</th>\n",
       "      <th>age</th>\n",
       "      <th>strength</th>\n",
       "    </tr>\n",
       "  </thead>\n",
       "  <tbody>\n",
       "    <tr>\n",
       "      <th>0</th>\n",
       "      <td>-1.339017</td>\n",
       "      <td>1.601441</td>\n",
       "      <td>-0.847144</td>\n",
       "      <td>1.027590</td>\n",
       "      <td>-1.039143</td>\n",
       "      <td>-0.014398</td>\n",
       "      <td>-0.31297</td>\n",
       "      <td>-0.279733</td>\n",
       "      <td>-0.355018</td>\n",
       "    </tr>\n",
       "    <tr>\n",
       "      <th>1</th>\n",
       "      <td>-1.074790</td>\n",
       "      <td>-0.367541</td>\n",
       "      <td>1.096078</td>\n",
       "      <td>-1.090116</td>\n",
       "      <td>0.769617</td>\n",
       "      <td>1.388141</td>\n",
       "      <td>0.28226</td>\n",
       "      <td>-0.501465</td>\n",
       "      <td>-0.737108</td>\n",
       "    </tr>\n",
       "  </tbody>\n",
       "</table>\n",
       "</div>"
      ],
      "text/plain": [
       "     cement      slag       ash     water  superplastic  coarseagg  fineagg  \\\n",
       "0 -1.339017  1.601441 -0.847144  1.027590     -1.039143  -0.014398 -0.31297   \n",
       "1 -1.074790 -0.367541  1.096078 -1.090116      0.769617   1.388141  0.28226   \n",
       "\n",
       "        age  strength  \n",
       "0 -0.279733 -0.355018  \n",
       "1 -0.501465 -0.737108  "
      ]
     },
     "execution_count": 13,
     "metadata": {},
     "output_type": "execute_result"
    }
   ],
   "source": [
    "zs_cement2 = DataFrame(zscore(c1), columns = c1.columns)\n",
    "zs_cement2.head(2)"
   ]
  },
  {
   "cell_type": "code",
   "execution_count": null,
   "metadata": {},
   "outputs": [],
   "source": []
  },
  {
   "cell_type": "code",
   "execution_count": null,
   "metadata": {},
   "outputs": [],
   "source": []
  },
  {
   "cell_type": "code",
   "execution_count": null,
   "metadata": {},
   "outputs": [],
   "source": []
  },
  {
   "cell_type": "code",
   "execution_count": null,
   "metadata": {},
   "outputs": [],
   "source": []
  }
 ],
 "metadata": {
  "kernelspec": {
   "display_name": "Python 3",
   "language": "python",
   "name": "python3"
  },
  "language_info": {
   "codemirror_mode": {
    "name": "ipython",
    "version": 3
   },
   "file_extension": ".py",
   "mimetype": "text/x-python",
   "name": "python",
   "nbconvert_exporter": "python",
   "pygments_lexer": "ipython3",
   "version": "3.6.4"
  }
 },
 "nbformat": 4,
 "nbformat_minor": 2
}
