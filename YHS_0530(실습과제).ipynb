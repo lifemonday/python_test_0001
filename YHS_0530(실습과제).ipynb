{
 "cells": [
  {
   "cell_type": "markdown",
   "metadata": {},
   "source": [
    "각 사람의 객관식 점수 4점\n",
    "True의 개수 센후 곱하기 4, 점수 계산\n",
    "\n",
    "문제가 맞으면 1 틀리면 0<br> 답안지와 정답지를 비교해서 1,0,1,0이다라고 하였을 때와 주관식 문제도 마찬가지로 맞으면 1과 틀리면 0이다이면 객관식은 4점 주관식은 10점이었을 때, 수학 행렬을 이용하여 이를 토대로 도트 연산을 사용하여 점수를 산정해봅시다. 그 방법은 np.dot(a,s)라고 하면 됨.(행렬내적으로 곱하는 공식임)\n",
    "\n",
    "\n",
    "\n",
    "# Day2 과제 <br>(아래 과제를 수행하거나 4장을 읽고 공부하시오.)\n",
    "\n",
    "* score.csv 파일을 읽어들여서 numpy ndarray로 만들고 np.dot() 메소드를 이용해 개인별 점수를 구하라.\n",
    "\n",
    "* 데이터 설명: \n",
    "    * 0~9 열이 개인별 객관식 답안 및 주관식 점수 데이터셋임.\n",
    "    * 10 열이 정답\n",
    "    * 0~19 행이 객관식 답안\n",
    "    * 20~21 행이 주관식 점수\n",
    "* 과제:\n",
    "    * 정답 열을 색인하여 answer를 생성한다.\n",
    "    * 객관식 답안 열을 색인하여 dset을 생성한다.\n",
    "    * dset 중 정답은 True 오답인 경우는 False로 표시한 bool_answer를 생성한다.\n",
    "    * 객관식 답안은 정답과 비교하여 정답이면 1, 오답이면 0으로 표시한다. 주관식 답안은 점수가 포함된 scoreset을 생성한다.\n",
    "    * 개인 별 객관식 배점은 4점이고 주관식은 점수가 기입되어 있다. 그러므로 문제별 배점을 points에 입력 후 np.dot()을 이용하여 개인별 점수를 계산한다."
   ]
  },
  {
   "cell_type": "code",
   "execution_count": 2,
   "metadata": {},
   "outputs": [],
   "source": [
    "import numpy as np"
   ]
  },
  {
   "cell_type": "code",
   "execution_count": 3,
   "metadata": {},
   "outputs": [],
   "source": [
    "score = np.loadtxt('c:/AIPython_2/0530test/python_score.csv', delimiter=',', dtype='float64')"
   ]
  },
  {
   "cell_type": "code",
   "execution_count": 4,
   "metadata": {},
   "outputs": [
    {
     "data": {
      "text/plain": [
       "array([[ 3.,  4.,  1.,  1.,  2.,  2.,  1.,  4.,  4.,  2.,  4.,  3.,  3.,\n",
       "         3.,  2.,  2.,  1.,  2.,  2.,  2.,  9.,  5.],\n",
       "       [ 3.,  4.,  1.,  1.,  2.,  4.,  1.,  4.,  4.,  2.,  3.,  3.,  3.,\n",
       "         2.,  2.,  2.,  1.,  2.,  2.,  1.,  4.,  7.],\n",
       "       [ 4.,  4.,  1.,  1.,  3.,  2.,  1.,  4.,  4.,  2.,  4.,  3.,  3.,\n",
       "         3.,  4.,  2.,  1.,  2.,  4.,  2., 10.,  8.],\n",
       "       [ 3.,  4.,  1.,  1.,  2.,  4.,  1.,  4.,  4.,  2.,  4.,  2.,  3.,\n",
       "         3.,  2.,  1.,  1.,  2.,  2.,  4.,  9.,  5.],\n",
       "       [ 3.,  4.,  1.,  1.,  4.,  2.,  1.,  4.,  4.,  2.,  2.,  3.,  3.,\n",
       "         3.,  2.,  1.,  1.,  2.,  2.,  4.,  6.,  7.],\n",
       "       [ 3.,  3.,  1.,  1.,  2.,  2.,  1.,  4.,  4.,  2.,  4.,  3.,  3.,\n",
       "         3.,  2.,  2.,  1.,  2.,  2.,  2.,  8.,  8.],\n",
       "       [ 3.,  4.,  1.,  1.,  2.,  2.,  1.,  4.,  4.,  2.,  4.,  3.,  3.,\n",
       "         1.,  2.,  2.,  1.,  2.,  2.,  3., 10.,  6.],\n",
       "       [ 3.,  4.,  1.,  1.,  4.,  2.,  1.,  4.,  4.,  2.,  4.,  3.,  3.,\n",
       "         3.,  2.,  2.,  1.,  2.,  2.,  2.,  7.,  8.],\n",
       "       [ 3.,  2.,  1.,  2.,  4.,  4.,  1.,  4.,  4.,  2.,  4.,  3.,  3.,\n",
       "         3.,  2.,  2.,  2.,  4.,  2.,  1.,  6.,  9.],\n",
       "       [ 3.,  2.,  1.,  1.,  2.,  2.,  1.,  4.,  2.,  2.,  4.,  3.,  3.,\n",
       "         3.,  2.,  2.,  1.,  2.,  2.,  3.,  9., 10.]])"
      ]
     },
     "execution_count": 4,
     "metadata": {},
     "output_type": "execute_result"
    }
   ],
   "source": [
    "dset=score[:,:10].T\n",
    "dset"
   ]
  },
  {
   "cell_type": "code",
   "execution_count": 5,
   "metadata": {},
   "outputs": [
    {
     "data": {
      "text/plain": [
       "array([ 3.,  4.,  1.,  1.,  2.,  2.,  1.,  4.,  4.,  2.,  4.,  3.,  3.,\n",
       "        3.,  2.,  2.,  1.,  2.,  2.,  2., 10., 10.])"
      ]
     },
     "execution_count": 5,
     "metadata": {},
     "output_type": "execute_result"
    }
   ],
   "source": [
    "answer = score[:,10]\n",
    "answer"
   ]
  },
  {
   "cell_type": "code",
   "execution_count": 6,
   "metadata": {},
   "outputs": [
    {
     "data": {
      "text/plain": [
       "array([[ True,  True,  True,  True,  True,  True,  True,  True,  True,\n",
       "         True,  True,  True,  True,  True,  True,  True,  True,  True,\n",
       "         True,  True, False, False],\n",
       "       [ True,  True,  True,  True,  True, False,  True,  True,  True,\n",
       "         True, False,  True,  True, False,  True,  True,  True,  True,\n",
       "         True, False, False, False],\n",
       "       [False,  True,  True,  True, False,  True,  True,  True,  True,\n",
       "         True,  True,  True,  True,  True, False,  True,  True,  True,\n",
       "        False,  True,  True, False],\n",
       "       [ True,  True,  True,  True,  True, False,  True,  True,  True,\n",
       "         True,  True, False,  True,  True,  True, False,  True,  True,\n",
       "         True, False, False, False],\n",
       "       [ True,  True,  True,  True, False,  True,  True,  True,  True,\n",
       "         True, False,  True,  True,  True,  True, False,  True,  True,\n",
       "         True, False, False, False],\n",
       "       [ True, False,  True,  True,  True,  True,  True,  True,  True,\n",
       "         True,  True,  True,  True,  True,  True,  True,  True,  True,\n",
       "         True,  True, False, False],\n",
       "       [ True,  True,  True,  True,  True,  True,  True,  True,  True,\n",
       "         True,  True,  True,  True, False,  True,  True,  True,  True,\n",
       "         True, False,  True, False],\n",
       "       [ True,  True,  True,  True, False,  True,  True,  True,  True,\n",
       "         True,  True,  True,  True,  True,  True,  True,  True,  True,\n",
       "         True,  True, False, False],\n",
       "       [ True, False,  True, False, False, False,  True,  True,  True,\n",
       "         True,  True,  True,  True,  True,  True,  True, False, False,\n",
       "         True, False, False, False],\n",
       "       [ True, False,  True,  True,  True,  True,  True,  True, False,\n",
       "         True,  True,  True,  True,  True,  True,  True,  True,  True,\n",
       "         True, False, False,  True]])"
      ]
     },
     "execution_count": 6,
     "metadata": {},
     "output_type": "execute_result"
    }
   ],
   "source": [
    "bool_dset = (dset == answer)\n",
    "bool_dset"
   ]
  },
  {
   "cell_type": "code",
   "execution_count": 7,
   "metadata": {
    "scrolled": true
   },
   "outputs": [
    {
     "data": {
      "text/plain": [
       "array([[1, 1, 1, 1, 1, 1, 1, 1, 1, 1, 1, 1, 1, 1, 1, 1, 1, 1, 1, 1, 0, 0],\n",
       "       [1, 1, 1, 1, 1, 0, 1, 1, 1, 1, 0, 1, 1, 0, 1, 1, 1, 1, 1, 0, 0, 0],\n",
       "       [0, 1, 1, 1, 0, 1, 1, 1, 1, 1, 1, 1, 1, 1, 0, 1, 1, 1, 0, 1, 1, 0],\n",
       "       [1, 1, 1, 1, 1, 0, 1, 1, 1, 1, 1, 0, 1, 1, 1, 0, 1, 1, 1, 0, 0, 0],\n",
       "       [1, 1, 1, 1, 0, 1, 1, 1, 1, 1, 0, 1, 1, 1, 1, 0, 1, 1, 1, 0, 0, 0],\n",
       "       [1, 0, 1, 1, 1, 1, 1, 1, 1, 1, 1, 1, 1, 1, 1, 1, 1, 1, 1, 1, 0, 0],\n",
       "       [1, 1, 1, 1, 1, 1, 1, 1, 1, 1, 1, 1, 1, 0, 1, 1, 1, 1, 1, 0, 1, 0],\n",
       "       [1, 1, 1, 1, 0, 1, 1, 1, 1, 1, 1, 1, 1, 1, 1, 1, 1, 1, 1, 1, 0, 0],\n",
       "       [1, 0, 1, 0, 0, 0, 1, 1, 1, 1, 1, 1, 1, 1, 1, 1, 0, 0, 1, 0, 0, 0],\n",
       "       [1, 0, 1, 1, 1, 1, 1, 1, 0, 1, 1, 1, 1, 1, 1, 1, 1, 1, 1, 0, 0, 1]])"
      ]
     },
     "execution_count": 7,
     "metadata": {},
     "output_type": "execute_result"
    }
   ],
   "source": [
    "bool_dset = bool_dset * 1\n",
    "bool_dset"
   ]
  },
  {
   "cell_type": "code",
   "execution_count": 8,
   "metadata": {},
   "outputs": [],
   "source": [
    "bool_dset[:,20:] = dset[:,20:]"
   ]
  },
  {
   "cell_type": "code",
   "execution_count": 9,
   "metadata": {},
   "outputs": [
    {
     "data": {
      "text/plain": [
       "array([4., 4., 4., 4., 4., 4., 4., 4., 4., 4., 4., 4., 4., 4., 4., 4., 4.,\n",
       "       4., 4., 4., 1., 1.])"
      ]
     },
     "execution_count": 9,
     "metadata": {},
     "output_type": "execute_result"
    }
   ],
   "source": [
    "b = np.ones(22)\n",
    "b[:20] *= 4\n",
    "b"
   ]
  },
  {
   "cell_type": "code",
   "execution_count": 10,
   "metadata": {},
   "outputs": [
    {
     "data": {
      "text/plain": [
       "array([94., 75., 82., 78., 77., 92., 88., 91., 67., 87.])"
      ]
     },
     "execution_count": 10,
     "metadata": {},
     "output_type": "execute_result"
    }
   ],
   "source": [
    "np.dot(bool_dset,b)"
   ]
  },
  {
   "cell_type": "code",
   "execution_count": 11,
   "metadata": {},
   "outputs": [],
   "source": [
    "rating=np.dot(bool_dset,b)"
   ]
  },
  {
   "cell_type": "code",
   "execution_count": 12,
   "metadata": {},
   "outputs": [
    {
     "name": "stdout",
     "output_type": "stream",
     "text": [
      "None\n"
     ]
    }
   ],
   "source": [
    "print (rating.sort())"
   ]
  },
  {
   "cell_type": "markdown",
   "metadata": {},
   "source": [
    "sort를 하면 오름차순 내림차순이 되던데 왜 안 될까요?"
   ]
  },
  {
   "cell_type": "code",
   "execution_count": null,
   "metadata": {},
   "outputs": [],
   "source": []
  },
  {
   "cell_type": "code",
   "execution_count": null,
   "metadata": {},
   "outputs": [],
   "source": []
  },
  {
   "cell_type": "code",
   "execution_count": null,
   "metadata": {},
   "outputs": [],
   "source": []
  }
 ],
 "metadata": {
  "kernelspec": {
   "display_name": "Python 3",
   "language": "python",
   "name": "python3"
  },
  "language_info": {
   "codemirror_mode": {
    "name": "ipython",
    "version": 3
   },
   "file_extension": ".py",
   "mimetype": "text/x-python",
   "name": "python",
   "nbconvert_exporter": "python",
   "pygments_lexer": "ipython3",
   "version": "3.6.4"
  }
 },
 "nbformat": 4,
 "nbformat_minor": 2
}
